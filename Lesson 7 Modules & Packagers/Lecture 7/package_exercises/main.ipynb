{
 "cells": [
  {
   "cell_type": "code",
   "execution_count": 2,
   "id": "8cb53505-2327-4786-8476-9a05a949549f",
   "metadata": {},
   "outputs": [
    {
     "name": "stdout",
     "output_type": "stream",
     "text": [
      "THE AREA OF A 5-BY-8 RECTANGLE IS 40\n"
     ]
    }
   ],
   "source": [
    "from helpers.string import shout\n",
    "from helpers.math import area\n",
    "\n",
    "rectangle_area = area(5, 8)\n",
    "\n",
    "message = f\"The area of a 5-by-8 rectangle is {rectangle_area}\"\n",
    "shouted_message = shout(message)\n",
    "\n",
    "print(shouted_message)"
   ]
  },
  {
   "cell_type": "code",
   "execution_count": null,
   "id": "54900406-ccda-4209-9ba7-8340a621ecc5",
   "metadata": {},
   "outputs": [],
   "source": []
  }
 ],
 "metadata": {
  "kernelspec": {
   "display_name": "Python [conda env:base] *",
   "language": "python",
   "name": "conda-base-py"
  },
  "language_info": {
   "codemirror_mode": {
    "name": "ipython",
    "version": 3
   },
   "file_extension": ".py",
   "mimetype": "text/x-python",
   "name": "python",
   "nbconvert_exporter": "python",
   "pygments_lexer": "ipython3",
   "version": "3.13.5"
  }
 },
 "nbformat": 4,
 "nbformat_minor": 5
}
