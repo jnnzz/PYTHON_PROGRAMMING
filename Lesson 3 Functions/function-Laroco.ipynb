{
 "cells": [
  {
   "cell_type": "markdown",
   "id": "21c7448a-a915-4847-b85d-a68c22a91316",
   "metadata": {},
   "source": [
    "# Review Question 1\n",
    "__"
   ]
  },
  {
   "cell_type": "code",
   "execution_count": 33,
   "id": "f4fdb005-3b7f-4702-a578-a748256c754d",
   "metadata": {},
   "outputs": [
    {
     "name": "stdout",
     "output_type": "stream",
     "text": [
      "First result:  27\n",
      "Second result:  125\n",
      "Third result:  1000\n"
     ]
    }
   ],
   "source": [
    "def cube(number):\n",
    "    return number ** 3\n",
    "print(\"First result: \",cube(3))\n",
    "print(\"Second result: \",cube(5))\n",
    "print(\"Third result: \",cube(10))   "
   ]
  },
  {
   "cell_type": "code",
   "execution_count": 34,
   "id": "15598b96-32d4-4dbd-b0cf-6ebd2f79a988",
   "metadata": {},
   "outputs": [
    {
     "data": {
      "text/plain": [
       "'Hello Jan!'"
      ]
     },
     "execution_count": 34,
     "metadata": {},
     "output_type": "execute_result"
    }
   ],
   "source": [
    "def greet(name):\n",
    "    return \"Hello \" +name +\"!\"\n",
    "greet(\"Jan\")"
   ]
  },
  {
   "cell_type": "markdown",
   "id": "518c2135-5009-4114-8391-e4539d5afeab",
   "metadata": {},
   "source": [
    "# Challenge: Convert Temperatures\n",
    "__"
   ]
  },
  {
   "cell_type": "code",
   "execution_count": 29,
   "id": "fcb4213c-c8ae-42c4-9a5f-69ab74e68b1f",
   "metadata": {},
   "outputs": [
    {
     "name": "stdin",
     "output_type": "stream",
     "text": [
      "Enter a temperature in degrees C:  37\n"
     ]
    },
    {
     "name": "stdout",
     "output_type": "stream",
     "text": [
      "37.0 degrees C =  98.60 degrees F\n"
     ]
    }
   ],
   "source": [
    "def convert_cel_to_far(celsius):\n",
    "    return (celsius * 9/5) + 32\n",
    "cels = float(input(\"Enter a temperature in degrees C: \"))\n",
    "print(cels, \"degrees C = \", f\"{convert_cel_to_far(cels):.2f}\", \"degrees F\")"
   ]
  },
  {
   "cell_type": "code",
   "execution_count": 30,
   "id": "6e514b24-2343-43f9-8f80-d7eaa87448cc",
   "metadata": {},
   "outputs": [
    {
     "name": "stdin",
     "output_type": "stream",
     "text": [
      "Enter a temperature in degrees F:  72\n"
     ]
    },
    {
     "name": "stdout",
     "output_type": "stream",
     "text": [
      "72.0 degrees F =  22.22 degrees C\n"
     ]
    }
   ],
   "source": [
    "def convert_far_to_cel(fahrenheit):\n",
    "    return (fahrenheit - 32) / 1.8\n",
    "far = float(input(\"Enter a temperature in degrees F: \"))\n",
    "print(far, \"degrees F = \", f\"{convert_far_to_cel(far):.2f}\", \"degrees C\")"
   ]
  },
  {
   "cell_type": "markdown",
   "id": "11ae22a9-d828-4e25-a18f-3758da31a194",
   "metadata": {},
   "source": [
    "# Review Question 2\n",
    "__"
   ]
  },
  {
   "cell_type": "code",
   "execution_count": 1,
   "id": "2fd352f3-6912-4c53-8a45-46d4fe4204b8",
   "metadata": {},
   "outputs": [
    {
     "name": "stdout",
     "output_type": "stream",
     "text": [
      "2\n",
      "3\n",
      "4\n",
      "5\n",
      "6\n",
      "7\n",
      "8\n",
      "9\n",
      "10\n"
     ]
    }
   ],
   "source": [
    "for n in range(2,11):   print(n)"
   ]
  },
  {
   "cell_type": "code",
   "execution_count": 2,
   "id": "cceee492-3098-47d3-8d50-0a68ca0800bc",
   "metadata": {},
   "outputs": [
    {
     "name": "stdout",
     "output_type": "stream",
     "text": [
      "2\n",
      "3\n",
      "4\n",
      "5\n",
      "6\n",
      "7\n",
      "8\n",
      "9\n",
      "10\n"
     ]
    }
   ],
   "source": [
    "num = 2\n",
    "while num < 11:\n",
    "    print(num)\n",
    "    num = num + 1"
   ]
  },
  {
   "cell_type": "code",
   "execution_count": 26,
   "id": "6324d873-d4db-4719-8247-e5acf096141c",
   "metadata": {},
   "outputs": [
    {
     "name": "stdout",
     "output_type": "stream",
     "text": [
      "4\n",
      "8\n",
      "16\n"
     ]
    }
   ],
   "source": [
    "def doubles(number):\n",
    "    return number * 2\n",
    "number = 2\n",
    "for n in range(0,3):\n",
    "    number = doubles(number)\n",
    "    print(number)"
   ]
  }
 ],
 "metadata": {
  "kernelspec": {
   "display_name": "Python 3 (ipykernel)",
   "language": "python",
   "name": "python3"
  },
  "language_info": {
   "codemirror_mode": {
    "name": "ipython",
    "version": 3
   },
   "file_extension": ".py",
   "mimetype": "text/x-python",
   "name": "python",
   "nbconvert_exporter": "python",
   "pygments_lexer": "ipython3",
   "version": "3.13.5"
  }
 },
 "nbformat": 4,
 "nbformat_minor": 5
}
