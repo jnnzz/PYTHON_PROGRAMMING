{
 "cells": [
  {
   "cell_type": "markdown",
   "id": "29d69aeb-f6a8-4532-a492-3d9c5154fe9d",
   "metadata": {},
   "source": [
    "# REVIEW QUESTION 1"
   ]
  },
  {
   "cell_type": "code",
   "execution_count": 2,
   "id": "ea89b9f1-de23-4ddb-a897-06ee7fdb6ec3",
   "metadata": {},
   "outputs": [
    {
     "name": "stdout",
     "output_type": "stream",
     "text": [
      "Philo's coat is brown.\n"
     ]
    }
   ],
   "source": [
    "class Dog:\n",
    "    def __init__(self, name, age, coat_color):\n",
    "        self.name = name\n",
    "        self.age = age\n",
    "        self.coat_color = coat_color\n",
    "\n",
    "philo = Dog(\"Philo\", 5, \"brown\")\n",
    "print(f\"{philo.name}'s coat is {philo.coat_color}.\")\n"
   ]
  },
  {
   "cell_type": "code",
   "execution_count": 3,
   "id": "7bdc820f-e7b1-4300-b727-c5a19df8caf6",
   "metadata": {},
   "outputs": [
    {
     "name": "stdout",
     "output_type": "stream",
     "text": [
      "The blue car has 20,000 miles.\n",
      "The red car has 30,000 miles.\n"
     ]
    }
   ],
   "source": [
    "class Car:\n",
    "    def __init__(self, color, mileage):\n",
    "        self.color = color\n",
    "        self.mileage = mileage\n",
    "\n",
    "blue_car = Car(\"blue\", 20000)\n",
    "red_car = Car(\"red\", 30000)\n",
    "\n",
    "print(f\"The {blue_car.color} car has {blue_car.mileage:,} miles.\")\n",
    "print(f\"The {red_car.color} car has {red_car.mileage:,} miles.\")\n"
   ]
  },
  {
   "cell_type": "code",
   "execution_count": 4,
   "id": "d9b3757d-e62b-40b4-895d-aced3701b036",
   "metadata": {},
   "outputs": [
    {
     "name": "stdout",
     "output_type": "stream",
     "text": [
      "100\n"
     ]
    }
   ],
   "source": [
    "class Car:\n",
    "    def __init__(self, color, mileage):\n",
    "        self.color = color\n",
    "        self.mileage = mileage\n",
    "\n",
    "    def drive(self, miles):\n",
    "        self.mileage += miles\n",
    "\n",
    "car = Car(\"black\", 0)\n",
    "car.drive(100)\n",
    "print(car.mileage)\n"
   ]
  },
  {
   "cell_type": "markdown",
   "id": "98f2a2fd-b8ff-4707-8572-e98c47e25ec3",
   "metadata": {},
   "source": [
    "# REVIEW QUESTION 2"
   ]
  },
  {
   "cell_type": "code",
   "execution_count": 5,
   "id": "0297f7ce-f26d-4b0c-bd28-2d3ac449d1a9",
   "metadata": {},
   "outputs": [
    {
     "name": "stdout",
     "output_type": "stream",
     "text": [
      "Buddy is 3 years old\n",
      "Buddy says Bark\n",
      "Buddy says Woof\n"
     ]
    }
   ],
   "source": [
    "class Dog:\n",
    "    species = \"Canis familiaris\"\n",
    "\n",
    "    def __init__(self, name, age):\n",
    "        self.name = name\n",
    "        self.age = age\n",
    "\n",
    "    def __str__(self):\n",
    "        return f\"{self.name} is {self.age} years old\"\n",
    "\n",
    "    def speak(self, sound):\n",
    "        return f\"{self.name} says {sound}\"\n",
    "\n",
    "\n",
    "class GoldenRetriever(Dog):\n",
    "    def speak(self, sound=\"Bark\"):\n",
    "        return super().speak(sound)\n",
    "\n",
    "\n",
    "golden = GoldenRetriever(\"Buddy\", 3)\n",
    "print(golden)\n",
    "print(golden.speak())       \n",
    "print(golden.speak(\"Woof\")) \n"
   ]
  },
  {
   "cell_type": "code",
   "execution_count": 6,
   "id": "66d3443c-c865-4a07-ba82-4b671b501f33",
   "metadata": {},
   "outputs": [
    {
     "name": "stdout",
     "output_type": "stream",
     "text": [
      "16\n"
     ]
    }
   ],
   "source": [
    "class Rectangle:\n",
    "    def __init__(self, length, width):\n",
    "        self.length = length\n",
    "        self.width = width\n",
    "\n",
    "    def area(self):\n",
    "        return self.length * self.width\n",
    "\n",
    "class Square(Rectangle):\n",
    "    def __init__(self, side_length):\n",
    "        super().__init__(side_length, side_length)\n",
    "\n",
    "\n",
    "square = Square(4)\n",
    "print(square.area())\n"
   ]
  },
  {
   "cell_type": "markdown",
   "id": "9a50c52b-93f7-4595-a61b-acf9de4cc8bc",
   "metadata": {},
   "source": [
    "# CHALLENGE: MODEL A FARM"
   ]
  },
  {
   "cell_type": "code",
   "execution_count": 7,
   "id": "47238a2a-5799-47db-a8bd-a28392e8c5e8",
   "metadata": {},
   "outputs": [
    {
     "name": "stdout",
     "output_type": "stream",
     "text": [
      "Welcome to the Farm! \n",
      "\n",
      "Bessie makes a 'Moo' sound.\n",
      "Bessie is eating.\n",
      "Bessie is producing milk.\n",
      "\n",
      "Clucky makes a 'Cluck' sound.\n",
      "Clucky lays an egg.\n",
      "Clucky is sleeping.\n",
      "\n",
      "Porky makes a 'Oink' sound.\n",
      "Porky is rolling in the mud!\n",
      "Porky is eating.\n",
      "\n",
      "Wooly makes a 'Baa' sound.\n",
      "Wooly is being sheared for wool.\n",
      "Wooly is sleeping.\n"
     ]
    }
   ],
   "source": [
    "\n",
    "class Animal:\n",
    "    def __init__(self, name, age, sound):\n",
    "        self.name = name\n",
    "        self.age = age\n",
    "        self.sound = sound\n",
    "\n",
    "    def make_sound(self):\n",
    "        print(f\"{self.name} makes a '{self.sound}' sound.\")\n",
    "\n",
    "    def eat(self):\n",
    "        print(f\"{self.name} is eating.\")\n",
    "\n",
    "    def sleep(self):\n",
    "        print(f\"{self.name} is sleeping.\")\n",
    "\n",
    "\n",
    "class Cow(Animal):\n",
    "    def __init__(self, name, age):\n",
    "        super().__init__(name, age, \"Moo\")\n",
    "\n",
    "    def produce_milk(self):\n",
    "        print(f\"{self.name} is producing milk.\")\n",
    "\n",
    "\n",
    "class Chicken(Animal):\n",
    "    def __init__(self, name, age):\n",
    "        super().__init__(name, age, \"Cluck\")\n",
    "\n",
    "    def lay_egg(self):\n",
    "        print(f\"{self.name} lays an egg.\")\n",
    "\n",
    "\n",
    "class Pig(Animal):\n",
    "    def __init__(self, name, age):\n",
    "        super().__init__(name, age, \"Oink\")\n",
    "\n",
    "    def roll_in_mud(self):\n",
    "        print(f\"{self.name} is rolling in the mud!\")\n",
    "\n",
    "\n",
    "class Sheep(Animal):\n",
    "    def __init__(self, name, age):\n",
    "        super().__init__(name, age, \"Baa\")\n",
    "\n",
    "    def shear(self):\n",
    "        print(f\"{self.name} is being sheared for wool.\")\n",
    "\n",
    "\n",
    "print(\"Welcome to the Farm! \\n\")\n",
    "\n",
    "cow = Cow(\"Bessie\", 5)\n",
    "chicken = Chicken(\"Clucky\", 2)\n",
    "pig = Pig(\"Porky\", 3)\n",
    "sheep = Sheep(\"Wooly\", 4)\n",
    "\n",
    "\n",
    "cow.make_sound()\n",
    "cow.eat()\n",
    "cow.produce_milk()\n",
    "\n",
    "print()  \n",
    "\n",
    "chicken.make_sound()\n",
    "chicken.lay_egg()\n",
    "chicken.sleep()\n",
    "\n",
    "print()\n",
    "\n",
    "pig.make_sound()\n",
    "pig.roll_in_mud()\n",
    "pig.eat()\n",
    "\n",
    "print()\n",
    "\n",
    "sheep.make_sound()\n",
    "sheep.shear()\n",
    "sheep.sleep()\n"
   ]
  },
  {
   "cell_type": "code",
   "execution_count": null,
   "id": "b838ad6d-b376-4287-ab61-15b3e38910a5",
   "metadata": {},
   "outputs": [],
   "source": []
  }
 ],
 "metadata": {
  "kernelspec": {
   "display_name": "Python [conda env:base] *",
   "language": "python",
   "name": "conda-base-py"
  },
  "language_info": {
   "codemirror_mode": {
    "name": "ipython",
    "version": 3
   },
   "file_extension": ".py",
   "mimetype": "text/x-python",
   "name": "python",
   "nbconvert_exporter": "python",
   "pygments_lexer": "ipython3",
   "version": "3.13.5"
  }
 },
 "nbformat": 4,
 "nbformat_minor": 5
}
