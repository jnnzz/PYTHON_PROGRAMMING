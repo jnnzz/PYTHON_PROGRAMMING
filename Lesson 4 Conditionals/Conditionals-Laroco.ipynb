{
 "cells": [
  {
   "cell_type": "markdown",
   "id": "2c065cac-a851-43ce-acf7-9a9ae36383fb",
   "metadata": {},
   "source": [
    "# Review Question 1"
   ]
  },
  {
   "cell_type": "code",
   "execution_count": 8,
   "id": "af2ac2c5-3d8b-4a3b-8d0b-1c834a2d9264",
   "metadata": {},
   "outputs": [
    {
     "name": "stdout",
     "output_type": "stream",
     "text": [
      "Results: \n",
      " True \n",
      " False \n",
      " True \n",
      " True \n",
      " True \n",
      " False\n"
     ]
    }
   ],
   "source": [
    "a = 1<=1\n",
    "b = 1!=1\n",
    "c = 1!=2\n",
    "d = \"good\" != \"bad\"\n",
    "e = \"good\" != \"Good\"\n",
    "f = 123 == \"123\"\n",
    "print(\"Results: \\n\",a,\"\\n\", b, \"\\n\", c,\"\\n\", d,\"\\n\", e,\"\\n\", f)"
   ]
  },
  {
   "cell_type": "code",
   "execution_count": 11,
   "id": "a273e8f9-4a56-4303-b985-27c30be54535",
   "metadata": {},
   "outputs": [
    {
     "name": "stdout",
     "output_type": "stream",
     "text": [
      "Results: \n",
      " True \n",
      " True \n",
      " True \n",
      " True\n"
     ]
    }
   ],
   "source": [
    "g = 3 < 4\n",
    "h = 10 > 5\n",
    "i = \"jack\" != \"jill\"\n",
    "j = 42 != \"42\"\n",
    "print(\"Results: \\n\",g,\"\\n\", h,\"\\n\", i,\"\\n\", j)"
   ]
  },
  {
   "cell_type": "markdown",
   "id": "41e4d190-9217-4261-b45c-194991fa8249",
   "metadata": {},
   "source": [
    "# Review Question 2"
   ]
  },
  {
   "cell_type": "code",
   "execution_count": 17,
   "id": "cb8987e9-45bd-4bc1-ae5e-fd2c76d5a048",
   "metadata": {},
   "outputs": [
    {
     "name": "stdout",
     "output_type": "stream",
     "text": [
      "Results:\n",
      " False \n",
      " False \n",
      " True \n",
      " False\n"
     ]
    }
   ],
   "source": [
    "a = (1<=1) and (1 != 1)\n",
    "b = not (1 != 2)\n",
    "c = (\"good\" != \"bad\") or False\n",
    "d = (\"good\" != \"Good\") and not (1==1)\n",
    "print(\"Results:\\n\",a,\"\\n\", b,\"\\n\", c,\"\\n\", d)"
   ]
  },
  {
   "cell_type": "code",
   "execution_count": 2,
   "id": "2582f7f1-5122-4955-a641-eba499ee8e1c",
   "metadata": {},
   "outputs": [
    {
     "name": "stdout",
     "output_type": "stream",
     "text": [
      "Results: \n",
      " True \n",
      " True \n",
      " True\n"
     ]
    }
   ],
   "source": [
    "e = False == (not True)\n",
    "f = (True and False)  == (True and False)\n",
    "g = not ((True) and (\"A\" == \"B\"))\n",
    "print(\"Results: \\n\",e,\"\\n\",f,\"\\n\",g)"
   ]
  },
  {
   "cell_type": "markdown",
   "id": "f0e37e5e-ae09-4f89-80ea-cea8d277f726",
   "metadata": {},
   "source": [
    "# Review Question 3"
   ]
  },
  {
   "cell_type": "code",
   "execution_count": 6,
   "id": "54748086-a8fc-4f3b-91e8-1d02df18b651",
   "metadata": {},
   "outputs": [
    {
     "name": "stdin",
     "output_type": "stream",
     "text": [
      "Enter your input:  jannyy\n"
     ]
    },
    {
     "name": "stdout",
     "output_type": "stream",
     "text": [
      "Your input: jannyy\n",
      "Your input has more than 5 characters\n"
     ]
    }
   ],
   "source": [
    "user_input = input(\"Enter your input: \")\n",
    "print(f\"Your input: {user_input}\")\n",
    "if len(user_input) < 5:\n",
    "    print(\"Your input has less than 5 characters\")\n",
    "elif len(user_input) > 5:\n",
    "    print(\"Your input has more than 5 characters\")\n",
    "else:\n",
    "    print(\"Your input has 5 characters\")"
   ]
  },
  {
   "cell_type": "markdown",
   "id": "b7a2d808-fbb1-4943-b0c6-90e1063be6e6",
   "metadata": {},
   "source": [
    "# Review Question 4"
   ]
  },
  {
   "cell_type": "code",
   "execution_count": 4,
   "id": "ead827c4-be4a-4955-9a4b-3f9987c2753d",
   "metadata": {},
   "outputs": [
    {
     "name": "stdin",
     "output_type": "stream",
     "text": [
      "Enter some input (enter a word with 'q' or 'Q' to quit):  dsa\n"
     ]
    },
    {
     "name": "stdout",
     "output_type": "stream",
     "text": [
      "You entered: dsa\n"
     ]
    },
    {
     "name": "stdin",
     "output_type": "stream",
     "text": [
      "Enter some input (enter a word with 'q' or 'Q' to quit):  Q\n"
     ]
    },
    {
     "name": "stdout",
     "output_type": "stream",
     "text": [
      "Goodbye!\n"
     ]
    }
   ],
   "source": [
    "while True:\n",
    "    user_input = input(\"Enter some input (enter a word with 'q' or 'Q' to quit): \")\n",
    "    if 'q' in user_input.lower():\n",
    "        print(\"Goodbye!\")\n",
    "        break\n",
    "        \n",
    "    print(f\"You entered: {user_input}\")"
   ]
  },
  {
   "cell_type": "code",
   "execution_count": 8,
   "id": "991836a9-12f2-4a77-b76c-edd2f0e5f5f2",
   "metadata": {},
   "outputs": [
    {
     "name": "stdout",
     "output_type": "stream",
     "text": [
      "1\n",
      "2\n",
      "4\n",
      "5\n",
      "7\n",
      "8\n",
      "10\n",
      "11\n",
      "13\n",
      "14\n",
      "16\n",
      "17\n",
      "19\n",
      "20\n",
      "22\n",
      "23\n",
      "25\n",
      "26\n",
      "28\n",
      "29\n",
      "31\n",
      "32\n",
      "34\n",
      "35\n",
      "37\n",
      "38\n",
      "40\n",
      "41\n",
      "43\n",
      "44\n",
      "46\n",
      "47\n",
      "49\n",
      "50\n"
     ]
    }
   ],
   "source": [
    "for num in range(1, 51):\n",
    "    if num % 3 == 0:\n",
    "        continue  \n",
    "    print(num)"
   ]
  },
  {
   "cell_type": "code",
   "execution_count": null,
   "id": "90b3c18f-9bc0-4e02-8f2e-30ea47abea34",
   "metadata": {},
   "outputs": [],
   "source": []
  }
 ],
 "metadata": {
  "kernelspec": {
   "display_name": "Python [conda env:base] *",
   "language": "python",
   "name": "conda-base-py"
  },
  "language_info": {
   "codemirror_mode": {
    "name": "ipython",
    "version": 3
   },
   "file_extension": ".py",
   "mimetype": "text/x-python",
   "name": "python",
   "nbconvert_exporter": "python",
   "pygments_lexer": "ipython3",
   "version": "3.13.5"
  }
 },
 "nbformat": 4,
 "nbformat_minor": 5
}
