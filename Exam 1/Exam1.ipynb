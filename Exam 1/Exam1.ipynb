{
 "cells": [
  {
   "cell_type": "markdown",
   "id": "6ab0e40d-0a85-4c3c-a128-7ab16b8ea6c6",
   "metadata": {},
   "source": [
    "# 1st Long Exam 9/10/2025"
   ]
  },
  {
   "cell_type": "markdown",
   "id": "b3b630cf-90fa-472c-b22e-f1df57e4f402",
   "metadata": {},
   "source": [
    "# Jan Lorenz L. Laroco ID:23780778"
   ]
  },
  {
   "cell_type": "markdown",
   "id": "36f69f26-f2f2-49d3-ac98-363948b60272",
   "metadata": {},
   "source": [
    "# Question 1"
   ]
  },
  {
   "cell_type": "code",
   "execution_count": 1,
   "id": "ca0bbe4b-a861-49ac-b9d0-cf20662c773d",
   "metadata": {},
   "outputs": [
    {
     "name": "stdin",
     "output_type": "stream",
     "text": [
      "Enter your name:  Jan\n"
     ]
    },
    {
     "name": "stdout",
     "output_type": "stream",
     "text": [
      "Hello Jan\n"
     ]
    }
   ],
   "source": [
    "name = input(\"Enter your name: \")\n",
    "print(f\"Hello {name}\")"
   ]
  },
  {
   "cell_type": "markdown",
   "id": "ba21633b-eb47-4753-b8b8-a8e5530b4a8e",
   "metadata": {},
   "source": [
    "# Question 2"
   ]
  },
  {
   "cell_type": "code",
   "execution_count": 4,
   "id": "d8ecd4bf-b634-4be3-a72a-0340ea1d102c",
   "metadata": {},
   "outputs": [
    {
     "name": "stdin",
     "output_type": "stream",
     "text": [
      "Enter your number:  -5\n"
     ]
    },
    {
     "name": "stdout",
     "output_type": "stream",
     "text": [
      "The sum is: 15.0\n"
     ]
    }
   ],
   "source": [
    "number = int(input(\"Enter your number: \"))\n",
    "number = abs(number)\n",
    "sum = (number * (number + 1)) /2\n",
    "print(f\"The sum is: {sum}\")"
   ]
  },
  {
   "cell_type": "markdown",
   "id": "7506b47e-aa98-4aa4-9a75-82559ac21ada",
   "metadata": {},
   "source": [
    "# Question 3"
   ]
  },
  {
   "cell_type": "code",
   "execution_count": 7,
   "id": "9edaa2ee-74c0-430e-90c9-62bff827aa3e",
   "metadata": {},
   "outputs": [
    {
     "name": "stdin",
     "output_type": "stream",
     "text": [
      "Enter your letter:  Y\n"
     ]
    },
    {
     "name": "stdout",
     "output_type": "stream",
     "text": [
      "Sometimes y is a vowel and sometimes y is a consonant\n"
     ]
    }
   ],
   "source": [
    "user_input = input(\"Enter your letter: \")\n",
    "user_input = user_input.lower()\n",
    "for i in user_input:\n",
    "    if i == 'a' or i == 'e' or i == 'i' or i == 'o' or i == 'u':\n",
    "        print(\"Your letter is a vowel\")\n",
    "    elif i == 'y':\n",
    "        print(\"Sometimes y is a vowel and sometimes y is a consonant\")\n",
    "    else:\n",
    "        print(\"The letter is consonant\")"
   ]
  },
  {
   "cell_type": "markdown",
   "id": "249c9532-0bc0-4af3-8237-aaad1eb5e798",
   "metadata": {},
   "source": [
    "# Question 4"
   ]
  },
  {
   "cell_type": "code",
   "execution_count": 10,
   "id": "16faab2e-064b-4443-a740-f80383264a65",
   "metadata": {},
   "outputs": [
    {
     "name": "stdin",
     "output_type": "stream",
     "text": [
      "Enter your word:  hannah\n"
     ]
    },
    {
     "name": "stdout",
     "output_type": "stream",
     "text": [
      "It is a palindrome.\n"
     ]
    }
   ],
   "source": [
    "word = input(\"Enter your word: \")\n",
    "rev = word[::-1]\n",
    "if word == rev:\n",
    "    print(\"It is a palindrome.\")\n",
    "else:\n",
    "    print(\"Your input is not a palindrome\")"
   ]
  },
  {
   "cell_type": "markdown",
   "id": "36da7c9c-1d25-4b4f-b377-684e5d533a4a",
   "metadata": {},
   "source": [
    "# Question 5"
   ]
  },
  {
   "cell_type": "code",
   "execution_count": 13,
   "id": "383a1375-cd9d-48ba-8faa-49b5dfe304cc",
   "metadata": {},
   "outputs": [
    {
     "name": "stdin",
     "output_type": "stream",
     "text": [
      "Enter the first length:  23\n",
      "Enter the second length:  2\n"
     ]
    },
    {
     "name": "stdout",
     "output_type": "stream",
     "text": [
      "The result is: 23.08679276123039\n"
     ]
    }
   ],
   "source": [
    "def hypotenuse(a,b):\n",
    "    h = (a**2 + b**2)**0.5\n",
    "    return h\n",
    "a = int(input(\"Enter the first length: \"))\n",
    "b = int(input(\"Enter the second length: \"))\n",
    "result = hypotenuse(a,b)\n",
    "print(f\"The result is: {result}\")"
   ]
  },
  {
   "cell_type": "code",
   "execution_count": null,
   "id": "daba9af1-fcf1-4a65-a388-ccc7f777b630",
   "metadata": {},
   "outputs": [],
   "source": []
  }
 ],
 "metadata": {
  "kernelspec": {
   "display_name": "Python 3 (ipykernel)",
   "language": "python",
   "name": "python3"
  },
  "language_info": {
   "codemirror_mode": {
    "name": "ipython",
    "version": 3
   },
   "file_extension": ".py",
   "mimetype": "text/x-python",
   "name": "python",
   "nbconvert_exporter": "python",
   "pygments_lexer": "ipython3",
   "version": "3.13.5"
  }
 },
 "nbformat": 4,
 "nbformat_minor": 5
}
