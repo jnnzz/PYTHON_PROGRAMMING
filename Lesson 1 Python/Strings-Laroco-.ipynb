{
 "cells": [
  {
   "cell_type": "markdown",
   "id": "1c5af4b3-de9d-4917-9b4f-4ac65001dcac",
   "metadata": {},
   "source": [
    "# Review Question 1\n",
    "__"
   ]
  },
  {
   "cell_type": "code",
   "execution_count": 4,
   "id": "b23bebe0-547b-4b69-bdfb-92d47b4540e4",
   "metadata": {},
   "outputs": [
    {
     "name": "stdout",
     "output_type": "stream",
     "text": [
      "Length of the string:  11\n"
     ]
    }
   ],
   "source": [
    "word = \"Hello World\"\n",
    "print(\"Length of the string: \", len(word))\n"
   ]
  },
  {
   "cell_type": "code",
   "execution_count": 3,
   "id": "e132d06a-19bc-4e93-b40b-4e78ecce4212",
   "metadata": {},
   "outputs": [
    {
     "name": "stdout",
     "output_type": "stream",
     "text": [
      "Concatenated string:  HelloPython\n"
     ]
    }
   ],
   "source": [
    "word1 = \"Hello\"\n",
    "word2 = \"Python\"\n",
    "print(\"Concatenated string: \", word1 + word2)"
   ]
  },
  {
   "cell_type": "code",
   "execution_count": 2,
   "id": "66c81520-0033-41ef-a0ed-dab22f6d0666",
   "metadata": {},
   "outputs": [
    {
     "name": "stdout",
     "output_type": "stream",
     "text": [
      "Concatenated string with space:  Hello Python\n"
     ]
    }
   ],
   "source": [
    "word1 = \"Hello\"\n",
    "word2 = \"Python\"\n",
    "print(\"Concatenated string with space: \", word1 + \" \" + word2)"
   ]
  },
  {
   "cell_type": "code",
   "execution_count": 9,
   "id": "c9a97f88-a476-43c7-8473-dd54f5979397",
   "metadata": {},
   "outputs": [
    {
     "name": "stdout",
     "output_type": "stream",
     "text": [
      "fox\n"
     ]
    }
   ],
   "source": [
    "word = \"The quick brown fox jumped over the lazy dog.#1234567890!\"\n",
    "print(word[16:19])"
   ]
  },
  {
   "cell_type": "markdown",
   "id": "f25e4a98-80f4-4db9-8a11-1dba4a21efcb",
   "metadata": {},
   "source": [
    "# Review Question 2\n",
    "__"
   ]
  },
  {
   "cell_type": "code",
   "execution_count": 8,
   "id": "8fc37ada-3475-4c89-92fc-45d2288295ab",
   "metadata": {},
   "outputs": [
    {
     "name": "stdout",
     "output_type": "stream",
     "text": [
      "badger\n",
      "honey bee\n",
      "honeybadger\n"
     ]
    }
   ],
   "source": [
    "word1 = \"Badger\"\n",
    "word2 = \"Honey Bee\"\n",
    "word3 = \"Honeybadger\"\n",
    "\n",
    "print(word1.lower())\n",
    "print(word2.lower())\n",
    "print(word3.lower())"
   ]
  },
  {
   "cell_type": "code",
   "execution_count": 11,
   "id": "b3fa8de9-09b8-4ea3-a3df-1d3d36f721d2",
   "metadata": {},
   "outputs": [
    {
     "name": "stdout",
     "output_type": "stream",
     "text": [
      "BADGER\n",
      "HONEY BEE\n",
      "HONEYBADGER\n"
     ]
    }
   ],
   "source": [
    "print(word1.upper())\n",
    "print(word2.upper())\n",
    "print(word3.upper())"
   ]
  },
  {
   "cell_type": "code",
   "execution_count": 16,
   "id": "37690062-a5ad-4590-9981-0778aee366cf",
   "metadata": {},
   "outputs": [
    {
     "name": "stdout",
     "output_type": "stream",
     "text": [
      "Filet Mignon\n",
      "Brisket\n"
     ]
    }
   ],
   "source": [
    "string1 = \"  Filet Mignon\"\n",
    "string2 = \"Brisket  \"\n",
    "print(string1.lstrip())\n",
    "print(string2.rstrip())"
   ]
  },
  {
   "cell_type": "code",
   "execution_count": 18,
   "id": "5162842c-ed6f-4442-9f61-fd9593bbdb99",
   "metadata": {},
   "outputs": [
    {
     "name": "stdout",
     "output_type": "stream",
     "text": [
      "False\n",
      "True\n"
     ]
    }
   ],
   "source": [
    "string1 = \"Becomes\"\n",
    "string2 = \"becomes\"\n",
    "print(string1.startswith(\"be\"))\n",
    "print(string2.startswith(\"be\"))"
   ]
  },
  {
   "cell_type": "code",
   "execution_count": 46,
   "id": "9d30dacc-c896-42a3-8afa-36778f080857",
   "metadata": {},
   "outputs": [
    {
     "name": "stdout",
     "output_type": "stream",
     "text": [
      "True\n",
      "True\n"
     ]
    }
   ],
   "source": [
    "string1 = (\"be\" + string1[1:])\n",
    "print(string1.startswith(\"be\"))\n",
    "print(string2.startswith(\"be\"))"
   ]
  },
  {
   "cell_type": "markdown",
   "id": "18966429-b1c2-441a-8eb8-8b5bcdf443f7",
   "metadata": {},
   "source": [
    "# Review Question 3\n",
    "__"
   ]
  },
  {
   "cell_type": "code",
   "execution_count": 2,
   "id": "8581190c-5498-47e7-b64f-3f9ee9a73fdd",
   "metadata": {},
   "outputs": [
    {
     "name": "stdin",
     "output_type": "stream",
     "text": [
      "Enter your input:  hhii\n"
     ]
    },
    {
     "name": "stdout",
     "output_type": "stream",
     "text": [
      "You said:  hhii\n"
     ]
    }
   ],
   "source": [
    "prompt = \"Enter your input: \"\n",
    "user_input = input(prompt)\n",
    "print(\"You said: \", user_input)\n"
   ]
  },
  {
   "cell_type": "code",
   "execution_count": 3,
   "id": "156652e4-a28e-42c9-b09a-e8cc66631487",
   "metadata": {},
   "outputs": [
    {
     "name": "stdin",
     "output_type": "stream",
     "text": [
      "Hi, what's your facebook account?  SSAa\n"
     ]
    },
    {
     "name": "stdout",
     "output_type": "stream",
     "text": [
      "You said:  ssaa\n"
     ]
    }
   ],
   "source": [
    "prompt = \"Hi, what's your facebook account? \"\n",
    "user_input = input(prompt)\n",
    "print(\"Input in lowercase: \", user_input.lower())\n"
   ]
  },
  {
   "cell_type": "code",
   "execution_count": 6,
   "id": "03264b8f-7a50-4f3d-a99d-91ac9f9915a8",
   "metadata": {},
   "outputs": [
    {
     "name": "stdin",
     "output_type": "stream",
     "text": [
      "Hi, what's your facebook account?  jannn s\n"
     ]
    },
    {
     "name": "stdout",
     "output_type": "stream",
     "text": [
      "Number of characters:  7\n"
     ]
    }
   ],
   "source": [
    "prompt = \"Hi, what's your facebook account? \"\n",
    "user_input = input(prompt)\n",
    "print(\"Number of characters: \", len(user_input))\n"
   ]
  },
  {
   "cell_type": "code",
   "execution_count": null,
   "id": "27789a7d-ba60-48a9-9c83-33871155e3f2",
   "metadata": {},
   "outputs": [],
   "source": []
  },
  {
   "cell_type": "markdown",
   "id": "02c8de01-e7bf-4d9d-91dc-70342ec55121",
   "metadata": {},
   "source": [
    "# Review Question 4\n",
    "__"
   ]
  },
  {
   "cell_type": "code",
   "execution_count": 3,
   "id": "36eb3bd3-6987-4b77-b299-611b8e0ac1c1",
   "metadata": {},
   "outputs": [
    {
     "name": "stdin",
     "output_type": "stream",
     "text": [
      "Tell me your name:  jan\n"
     ]
    },
    {
     "name": "stdout",
     "output_type": "stream",
     "text": [
      "You said:  jan\n"
     ]
    }
   ],
   "source": [
    "prompt = \"Tell me your name: \"\n",
    "user_input = input(prompt)\n",
    "new = user_input(0).upper()\n",
    "print(\"You said: \", user_input)\n"
   ]
  },
  {
   "cell_type": "markdown",
   "id": "0443ff43-e9b4-407e-9972-982267015797",
   "metadata": {},
   "source": [
    "# Review Question 5\n",
    "__"
   ]
  },
  {
   "cell_type": "code",
   "execution_count": 13,
   "id": "58b5320d-2fbb-45ea-a58e-be9a4d34641c",
   "metadata": {},
   "outputs": [
    {
     "name": "stdout",
     "output_type": "stream",
     "text": [
      "Result:  120\n"
     ]
    }
   ],
   "source": [
    "string = \"100\"\n",
    "num1 = int(string)\n",
    "num2 = 20\n",
    "print(\"Result: \", num1 + num2)"
   ]
  },
  {
   "cell_type": "code",
   "execution_count": 16,
   "id": "64e078c6-40f9-48af-860b-457f638926b1",
   "metadata": {},
   "outputs": [
    {
     "name": "stdout",
     "output_type": "stream",
     "text": [
      "Result in float:  120.5\n"
     ]
    }
   ],
   "source": [
    "string = \"100\"\n",
    "num1 = float(string)\n",
    "num2 = 20.5\n",
    "print(\"Result in float: \", num1 + num2)"
   ]
  },
  {
   "cell_type": "code",
   "execution_count": 20,
   "id": "dcc931a7-07ba-4579-8cbf-430e6b781e7f",
   "metadata": {},
   "outputs": [
    {
     "name": "stdout",
     "output_type": "stream",
     "text": [
      "hello123\n"
     ]
    }
   ],
   "source": [
    "string = \"hello\"\n",
    "integer = 123\n",
    "print(str(string) + str(integer))"
   ]
  },
  {
   "cell_type": "code",
   "execution_count": 2,
   "id": "8b5e9de9-34b3-429d-892e-2fa7fd99750f",
   "metadata": {},
   "outputs": [
    {
     "name": "stdin",
     "output_type": "stream",
     "text": [
      "Enter the first number:  5\n",
      "Enter the second number:  2\n"
     ]
    },
    {
     "name": "stdout",
     "output_type": "stream",
     "text": [
      "Result:  10\n"
     ]
    }
   ],
   "source": [
    "prompt1 = \"Enter the first number: \"\n",
    "num1 = int(input(prompt1))\n",
    "prompt2 = \"Enter the second number: \"\n",
    "num2 = int(input(prompt2))\n",
    "\n",
    "print(\"Result: \", num1 * num2)"
   ]
  },
  {
   "cell_type": "markdown",
   "id": "08ff7a31-66fd-4b09-addb-90f88de07a12",
   "metadata": {},
   "source": [
    "# Review Question 6\n",
    "__"
   ]
  },
  {
   "cell_type": "code",
   "execution_count": 3,
   "id": "bd350f20-b59e-474f-9460-98e755056626",
   "metadata": {},
   "outputs": [
    {
     "data": {
      "text/plain": [
       "-1"
      ]
     },
     "execution_count": 3,
     "metadata": {},
     "output_type": "execute_result"
    }
   ],
   "source": [
    "\"AAA\".find(\"a\")"
   ]
  },
  {
   "cell_type": "code",
   "execution_count": 5,
   "id": "a94056f6-4488-4794-b5d6-1356d9095628",
   "metadata": {},
   "outputs": [
    {
     "data": {
      "text/plain": [
       "'Somebody yaid yomething to Samantha'"
      ]
     },
     "execution_count": 5,
     "metadata": {},
     "output_type": "execute_result"
    }
   ],
   "source": [
    "sentence = \"Somebody said something to Samantha\"\n",
    "sentence.replace(\"s\", \"y\" )"
   ]
  },
  {
   "cell_type": "code",
   "execution_count": 5,
   "id": "ce806ad7-39d7-4ce3-a558-257f2a455259",
   "metadata": {},
   "outputs": [
    {
     "data": {
      "text/plain": [
       "'Somebody yaid yomething to Samantha'"
      ]
     },
     "execution_count": 5,
     "metadata": {},
     "output_type": "execute_result"
    }
   ],
   "source": [
    "prompt = \"Enter your input: \"\n",
    "user_input = input(prompt)\n",
    "\n",
    "print(\"Number of characters: \", usern_input)"
   ]
  },
  {
   "cell_type": "raw",
   "id": "c513e77e-0067-4912-94f9-5e05fa78b9ea",
   "metadata": {},
   "source": []
  },
  {
   "cell_type": "code",
   "execution_count": null,
   "id": "3356d136-eb92-4a27-843c-fefcc5941ac1",
   "metadata": {},
   "outputs": [],
   "source": []
  }
 ],
 "metadata": {
  "kernelspec": {
   "display_name": "Python 3 (ipykernel)",
   "language": "python",
   "name": "python3"
  },
  "language_info": {
   "codemirror_mode": {
    "name": "ipython",
    "version": 3
   },
   "file_extension": ".py",
   "mimetype": "text/x-python",
   "name": "python",
   "nbconvert_exporter": "python",
   "pygments_lexer": "ipython3",
   "version": "3.13.5"
  }
 },
 "nbformat": 4,
 "nbformat_minor": 5
}
