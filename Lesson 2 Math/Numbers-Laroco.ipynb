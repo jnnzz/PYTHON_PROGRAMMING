{
 "cells": [
  {
   "cell_type": "markdown",
   "id": "c7712f56-8fe9-429b-8edf-b22dbcd369c6",
   "metadata": {},
   "source": [
    "# Review Question 1\n",
    "__"
   ]
  },
  {
   "cell_type": "code",
   "execution_count": 26,
   "id": "691193db-c418-44f6-bcb8-d791b9e99409",
   "metadata": {},
   "outputs": [
    {
     "name": "stdout",
     "output_type": "stream",
     "text": [
      "Without underscores:  (25, 0, 0)\n",
      "With underscores:  25000000\n"
     ]
    }
   ],
   "source": [
    "num1 = 25,000,000\n",
    "num2 = 25_000_000\n",
    "print(\"Without underscores: \",num1)\n",
    "print(\"With underscores: \",num2)"
   ]
  },
  {
   "cell_type": "code",
   "execution_count": 10,
   "id": "012b1c61-7222-4e7b-8b7f-b85018e6ff69",
   "metadata": {},
   "outputs": [
    {
     "name": "stdout",
     "output_type": "stream",
     "text": [
      "Result:  175000.0\n"
     ]
    }
   ],
   "source": [
    "x = 1.75 * 10 ** 5\n",
    "print(\"Result: \",x)"
   ]
  },
  {
   "cell_type": "code",
   "execution_count": 22,
   "id": "63e88705-0f71-4b2d-a8eb-69bc23f7a55a",
   "metadata": {},
   "outputs": [
    {
     "name": "stdout",
     "output_type": "stream",
     "text": [
      "The smallest number that returns infinite is  2e(308):  inf\n"
     ]
    }
   ],
   "source": [
    "num = 2e308\n",
    "print(\"The smallest number that returns infinite is \", \"2e(308): \", num)\n"
   ]
  },
  {
   "cell_type": "markdown",
   "id": "4abbe00d-aa0b-41bc-b630-bc05521aabbd",
   "metadata": {},
   "source": [
    "# Review Question 2\n",
    "__"
   ]
  },
  {
   "cell_type": "code",
   "execution_count": 1,
   "id": "0be3bf20-e297-4f35-ba91-9e2bc5b9dc69",
   "metadata": {},
   "outputs": [
    {
     "name": "stdin",
     "output_type": "stream",
     "text": [
      "Enter a base: 1.2\n",
      "Enter an exponent:  3\n"
     ]
    },
    {
     "name": "stdout",
     "output_type": "stream",
     "text": [
      "1.2 to the power of  3  =  1.7279999999999998\n"
     ]
    }
   ],
   "source": [
    "prompt1 = \"Enter a base:\"\n",
    "num1 = input(prompt1)\n",
    "prompt2 = \"Enter an exponent: \"\n",
    "num2 = input(prompt2)\n",
    "\n",
    "print(num1, \"to the power of \", num2, \" = \", float(num1) ** float(num2))"
   ]
  },
  {
   "cell_type": "markdown",
   "id": "b0a98dbf-7ffc-4561-a507-02f4fce2f6bf",
   "metadata": {},
   "source": [
    "# Review Question 3\n",
    "__"
   ]
  },
  {
   "cell_type": "code",
   "execution_count": 10,
   "id": "b2587029-e9ec-4a64-a3a9-510f2e57f8aa",
   "metadata": {},
   "outputs": [
    {
     "name": "stdin",
     "output_type": "stream",
     "text": [
      "Enter a number:  5.43243\n"
     ]
    },
    {
     "name": "stdout",
     "output_type": "stream",
     "text": [
      "5.43243 rounded to 2 decimal places is:  5.43\n"
     ]
    }
   ],
   "source": [
    "prompt = \"Enter a number: \"\n",
    "num = input(prompt)\n",
    "\n",
    "print(num, \"rounded to 2 decimal places is: \", round(float(num),2))"
   ]
  },
  {
   "cell_type": "code",
   "execution_count": 17,
   "id": "e4c71bf8-5224-4346-b351-c60df886a551",
   "metadata": {},
   "outputs": [
    {
     "name": "stdin",
     "output_type": "stream",
     "text": [
      "Enter a number:  -10\n"
     ]
    },
    {
     "name": "stdout",
     "output_type": "stream",
     "text": [
      "The absolute value of -10 is 10.0\n"
     ]
    }
   ],
   "source": [
    "prompt = \"Enter a number: \"\n",
    "num = input(prompt)\n",
    "\n",
    "print(\"The absolute value of\", num, \"is\",  abs(float(num)))"
   ]
  },
  {
   "cell_type": "markdown",
   "id": "c3c4bbe6-7428-45a0-a6fd-7b461bd0778a",
   "metadata": {},
   "source": [
    "# Review Question 4\n",
    "__"
   ]
  },
  {
   "cell_type": "code",
   "execution_count": 24,
   "id": "b4347c03-adc7-446e-863e-b8ac2558889b",
   "metadata": {},
   "outputs": [
    {
     "name": "stdin",
     "output_type": "stream",
     "text": [
      "Enter a number:  1.5\n",
      "Enter another number:  .5\n"
     ]
    },
    {
     "name": "stdout",
     "output_type": "stream",
     "text": [
      "The difference between  1.5 and  .5  is an integer?  True !\n"
     ]
    }
   ],
   "source": [
    "prompt1 = \"Enter a number: \"\n",
    "num1 = input(prompt1)\n",
    "\n",
    "prompt2 = \"Enter another number: \"\n",
    "num2 = input(prompt2)\n",
    "difference = float(num1) - float(num2)\n",
    "print(\"The difference between \", num1, \"and \", num2, \" is an integer? \",difference.is_integer(),\"!\")"
   ]
  },
  {
   "cell_type": "markdown",
   "id": "f695352f-27ad-42fb-8347-6026e928c501",
   "metadata": {},
   "source": [
    "# Review Question 5\n",
    "__"
   ]
  },
  {
   "cell_type": "code",
   "execution_count": 26,
   "id": "549bc92e-901a-4701-b909-ae7c4f5041ea",
   "metadata": {},
   "outputs": [
    {
     "name": "stdout",
     "output_type": "stream",
     "text": [
      "Result:  1.147\n"
     ]
    }
   ],
   "source": [
    "result = 3 ** .125\n",
    "print(\"Result: \",round(float(result),3))"
   ]
  },
  {
   "cell_type": "code",
   "execution_count": 7,
   "id": "3c3d3d04-0db0-477d-b59b-619e5db93c94",
   "metadata": {},
   "outputs": [
    {
     "name": "stdout",
     "output_type": "stream",
     "text": [
      "Amount:  $150,000.00\n"
     ]
    }
   ],
   "source": [
    "number = 150000\n",
    "symbol = \"$\"\n",
    "print(\"Amount: \",f\"{symbol}{number:,.2f}\")"
   ]
  },
  {
   "cell_type": "code",
   "execution_count": 7,
   "id": "ae0ec661-b2b4-49b9-907d-66d1f242d92e",
   "metadata": {},
   "outputs": [
    {
     "name": "stdout",
     "output_type": "stream",
     "text": [
      "The output in percentage: 20%\n"
     ]
    }
   ],
   "source": [
    "result = 2/10\n",
    "print(f\"The output in percentage: {result:.0%}\")"
   ]
  }
 ],
 "metadata": {
  "kernelspec": {
   "display_name": "Python 3 (ipykernel)",
   "language": "python",
   "name": "python3"
  },
  "language_info": {
   "codemirror_mode": {
    "name": "ipython",
    "version": 3
   },
   "file_extension": ".py",
   "mimetype": "text/x-python",
   "name": "python",
   "nbconvert_exporter": "python",
   "pygments_lexer": "ipython3",
   "version": "3.13.5"
  }
 },
 "nbformat": 4,
 "nbformat_minor": 5
}
